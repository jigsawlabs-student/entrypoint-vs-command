{
 "cells": [
  {
   "cell_type": "markdown",
   "id": "876da35c-9842-4bd0-b474-d6189590813d",
   "metadata": {},
   "source": [
    "# Docker Command vs Entrypoint"
   ]
  },
  {
   "cell_type": "markdown",
   "id": "6dade9f7-dffc-4716-9b89-e43f4f05f8d2",
   "metadata": {},
   "source": [
    "### Introduction"
   ]
  },
  {
   "cell_type": "markdown",
   "id": "c16ecd89-cce5-4e87-b992-2fc814dbe455",
   "metadata": {},
   "source": [
    "So far we have used CMD when building our Docker images.  However, the `CMD` function can also be paired with `Entrypoint`.  In this lesson, we'll review the CMD function, and then move into `Entrypoint`."
   ]
  },
  {
   "cell_type": "markdown",
   "id": "6858e73f-2030-4208-95c7-3b115e9e5410",
   "metadata": {},
   "source": [
    "### Reviewing Command"
   ]
  },
  {
   "cell_type": "markdown",
   "id": "13b7dc16-39e6-4463-ae24-cc5ef0a7585f",
   "metadata": {},
   "source": [
    "As we know, CMD is often the last line of our Dockerfile."
   ]
  },
  {
   "cell_type": "markdown",
   "id": "7b3dfe33-b1a4-404d-8166-24516f0b1bc1",
   "metadata": {},
   "source": [
    "For example, below is our Dockerfile for booting up a flask application (currently located inside of `web_app/app`)."
   ]
  },
  {
   "cell_type": "markdown",
   "id": "859dda13-9903-4664-a54c-208aac9b0b98",
   "metadata": {},
   "source": [
    "```Dockerfile\n",
    "FROM python:3.8.5-alpine3.12\n",
    "\n",
    "WORKDIR /app\n",
    "\n",
    "EXPOSE 80\n",
    "ENV FLASK_APP=app.py\n",
    "\n",
    "COPY ./src .\n",
    "RUN pip3 install -r requirements.txt\n",
    "\n",
    "CMD [\"flask\", \"run\", \"--host=0.0.0.0\", \"--port=80\"]\n",
    "```"
   ]
  },
  {
   "cell_type": "markdown",
   "id": "91847385-2258-4737-92bc-e9a7007235da",
   "metadata": {},
   "source": [
    "Now why is CMD our last line?  Well when we build a Docker image, all of the previous lines are packaged up in our image.  That last command line is run as the last step, only when we finally run the docker image."
   ]
  },
  {
   "cell_type": "markdown",
   "id": "48dd9467-d99a-4ba8-9688-7800ee8c6307",
   "metadata": {},
   "source": [
    "Let's see this.  From the `web_app/app` folder, we can run the following."
   ]
  },
  {
   "cell_type": "markdown",
   "id": "184ccf63-346c-4837-b0db-4ccf72513461",
   "metadata": {},
   "source": [
    "```bash\n",
    "docker build -t web_app .\n",
    "```"
   ]
  },
  {
   "cell_type": "markdown",
   "id": "55e9387c-16fa-44df-86c8-d6a362fd38f5",
   "metadata": {},
   "source": [
    "<img src=\"./docker_build.png\">"
   ]
  },
  {
   "cell_type": "markdown",
   "id": "2704c657-28f5-4b40-a1ab-91edefa6a162",
   "metadata": {},
   "source": [
    "So notice that when we build the image it stops right before the CMD line, with `RUN pip3 install -r requirements.txt`.  \n",
    "\n",
    "It's only when we call `docker run web_app` that the CMD line is executed."
   ]
  },
  {
   "cell_type": "markdown",
   "id": "53e8c9f4-5611-4e45-929c-ed9fffe55369",
   "metadata": {},
   "source": [
    "<img src=\"./cmd_fn.png\" width=\"60%\">"
   ]
  },
  {
   "cell_type": "markdown",
   "id": "6a6e75e8-6d5e-4a34-8520-391add1f4063",
   "metadata": {},
   "source": [
    "One feature of CMD is that it's really just specifying the default behavior at runtime (when we call docker run).  We can override this by providing a additional arguments after `docker run image_name`.  For example, below we'll provide the command for running flask on port 3000."
   ]
  },
  {
   "cell_type": "markdown",
   "id": "fc3ad15d-cbb6-4521-89f3-71b4b506009b",
   "metadata": {},
   "source": [
    "```bash\n",
    "docker run web_app flask run --port=3000\n",
    "```"
   ]
  },
  {
   "cell_type": "markdown",
   "id": "d0632564-bdae-497c-a1e8-e6ad56785aad",
   "metadata": {},
   "source": [
    "Or we can not have flask run at all, and just provide the command for bashing into the container."
   ]
  },
  {
   "cell_type": "markdown",
   "id": "db73e1e2-8597-4dab-bb93-9b11927d4095",
   "metadata": {},
   "source": [
    "```bash\n",
    "docker run -it web_app sh\n",
    "```"
   ]
  },
  {
   "cell_type": "markdown",
   "id": "9cc5d406-2320-4480-9c2d-97b6efbb3b50",
   "metadata": {},
   "source": [
    "### Moving to Entrypoint "
   ]
  },
  {
   "cell_type": "markdown",
   "id": "5431ec0f-bd1b-4cc1-93e7-87c0e3615b76",
   "metadata": {},
   "source": [
    "Ok, so features of the CMD function are that it's run when building an image.  And that we can override it, by specifying additional arguments after `docker run image_name`.\n",
    "\n"
   ]
  },
  {
   "cell_type": "markdown",
   "id": "d67446f4-92a3-4b25-86af-3cf89b1ec34c",
   "metadata": {},
   "source": [
    "Now let's move to using `entrypoint`.  `Entrypoint` is similar to `CMD` in that it is only run at runtime, when calling `docker run image_name`.  And like `CMD`, there can only be one `Entrypoint` per `Dockerfile`.\n",
    "\n",
    "However it is different from CMD in that it *cannot* be overriden.\n",
    "\n",
    "Let's see this.  Update the Dockerfile to the following."
   ]
  },
  {
   "cell_type": "markdown",
   "id": "801092ce-26e7-4963-abdb-e25e3667b47e",
   "metadata": {},
   "source": [
    "```bash\n",
    "FROM python:3.8.5-alpine3.12\n",
    "\n",
    "WORKDIR /app\n",
    "\n",
    "EXPOSE 80\n",
    "ENV FLASK_APP=app.py\n",
    "\n",
    "COPY ./src .\n",
    "RUN pip3 install -r requirements.txt\n",
    "\n",
    "ENTRYPOINT [\"flask\", \"run\"]\n",
    "```"
   ]
  },
  {
   "cell_type": "markdown",
   "id": "ada472dd-3e11-4b94-be2e-c39e8a5f431d",
   "metadata": {},
   "source": [
    "And then rebuild the image."
   ]
  },
  {
   "cell_type": "markdown",
   "id": "74e1446e-cbfa-48a3-8b71-9696842bb7a0",
   "metadata": {},
   "source": [
    "`docker build -t web_app .`"
   ]
  },
  {
   "cell_type": "markdown",
   "id": "8774666e-564b-41ec-9315-8189549d4b94",
   "metadata": {},
   "source": [
    "And if you run it, everything operates the same."
   ]
  },
  {
   "cell_type": "markdown",
   "id": "3a458340-f83c-4afb-a1f0-2437dddc8c65",
   "metadata": {},
   "source": [
    "```bash\n",
    "docker run  web_app\n",
    "```"
   ]
  },
  {
   "cell_type": "markdown",
   "id": "eeaa1e9b-b67e-4bfd-a2b8-b2ba2faca0f4",
   "metadata": {},
   "source": [
    "A difference is if you try to provide arguments *after* running `docker run`.  For example, let's say when running the image's container, we want to change the port.  This is how we can do it."
   ]
  },
  {
   "cell_type": "markdown",
   "id": "52d19eea-12b8-4d33-be8b-eae5ded7cc42",
   "metadata": {},
   "source": [
    "```bash\n",
    "docker run  web_app --port=80\n",
    "```"
   ]
  },
  {
   "cell_type": "markdown",
   "id": "00ef814d-8ae2-45c2-b822-d984ae77a690",
   "metadata": {},
   "source": [
    "So the `ENTRYPOINT` line is still run, and now we just pass an additional argument to our command with `--port=80`.  So when passing through the argument above, on runtime, we were running something like:\n",
    "\n",
    "```\n",
    "flask run --port=80\n",
    "```"
   ]
  },
  {
   "cell_type": "markdown",
   "id": "a9917077-61ba-4659-b2bf-94d4a82e605e",
   "metadata": {
    "tags": []
   },
   "source": [
    "But remember, the `flask run` part is not overriden with our line `docker run web_app --port=80`.  We are just adding additional arguments to what's specified in our entrypoint."
   ]
  },
  {
   "cell_type": "markdown",
   "id": "680c43e9-7924-4a9b-b4c9-6527acc21def",
   "metadata": {},
   "source": [
    "We can see this a bit better if we try to sh into our container again.  Run the following."
   ]
  },
  {
   "cell_type": "markdown",
   "id": "04f87c52-e344-4b3a-b219-0252299c4f0e",
   "metadata": {},
   "source": [
    "```bash\n",
    "docker run -it web_app sh\n",
    "```"
   ]
  },
  {
   "cell_type": "markdown",
   "id": "84ded47e-db25-489b-936f-b1222041e13a",
   "metadata": {},
   "source": [
    "<img src=\"./docker-sh.png\" width=\"60%\">"
   ]
  },
  {
   "cell_type": "markdown",
   "id": "0215da84-99c3-4dc9-b88f-8f35663e9c24",
   "metadata": {},
   "source": [
    "So above we get an error.  By running `docker run -it web_app sh`, we are passing `sh` as an argument to what's specified after entrypoint.  So in this case, we are basically running `flask run sh`, which isn't a valid flask command."
   ]
  },
  {
   "cell_type": "markdown",
   "id": "987b5a8b-b836-426c-96af-cd333d767a8c",
   "metadata": {},
   "source": [
    "* Entrypoint with CMD"
   ]
  },
  {
   "cell_type": "markdown",
   "id": "45587cab-2434-4ff9-8b57-a27fb5ab0766",
   "metadata": {},
   "source": [
    "Ok, now we can actually pair entrypoint with command.  Update your Dockerfile, so the last few lines look like the following:"
   ]
  },
  {
   "cell_type": "markdown",
   "id": "87bafbd8-ff3b-4e6f-92e0-d2ddc8db22a2",
   "metadata": {},
   "source": [
    "```dockerfile\n",
    "ENTRYPOINT [\"flask\", \"run\"]\n",
    "\n",
    "CMD [\"--port=80\"]\n",
    "```"
   ]
  },
  {
   "cell_type": "markdown",
   "id": "7dc5b6dc-54d8-4544-a561-9581f7e98393",
   "metadata": {},
   "source": [
    "Then rebuild the image.\n",
    "\n",
    "```bash\n",
    "docker build -t web_app .\n",
    "```"
   ]
  },
  {
   "cell_type": "markdown",
   "id": "c3d992ba-0e92-4238-99c9-c22c6a26c76e",
   "metadata": {},
   "source": [
    "And run the container.\n",
    "\n",
    "```bash\n",
    "docker run web_app\n",
    "```"
   ]
  },
  {
   "cell_type": "markdown",
   "id": "3b365188-5bde-4803-a57b-6fb4e83ef826",
   "metadata": {},
   "source": [
    "<img src=\"./port-80.png\" width=\"60%\">"
   ]
  },
  {
   "cell_type": "markdown",
   "id": "b8d131c5-0918-4414-934b-96cd90cd5550",
   "metadata": {},
   "source": [
    "This time if we run `docker run`, you can see that `--port=80` is passed as an argument to our `ENTRYPOINT` command.  So above, `--port=80` is passed to `flask run`."
   ]
  },
  {
   "cell_type": "markdown",
   "id": "42032d7b-9433-454e-8ce8-d5b8174a7658",
   "metadata": {},
   "source": [
    "And just like always, we can override what's specified in our `CMD` by adding arguments after `docker run image_name`.  For example, let's have our flask application run on `port=3000` instead of `80`."
   ]
  },
  {
   "cell_type": "markdown",
   "id": "5d095faf-31a9-4a97-a38d-52ebe91875d2",
   "metadata": {},
   "source": [
    "```bash\n",
    "docker run web_app --port=3000\n",
    "```"
   ]
  },
  {
   "cell_type": "markdown",
   "id": "3bb4cf06-6c7a-418a-acd2-a35e329c4bc3",
   "metadata": {},
   "source": [
    "<img src=\"./port-more.png\" width=\"60%\">"
   ]
  },
  {
   "cell_type": "markdown",
   "id": "017bfcb6-d3cf-4a6b-86f0-be91f31ea9d8",
   "metadata": {},
   "source": [
    "> So above, the `--port=3000` overrides the default argument specified in CMD, `CMD [\"--port=80\"]`, and that overriding argument is passed to what's specified in ENTRYPOINT, `ENTRYPOINT [\"flask\", \"run\"]`.  So with \n",
    "\n",
    "```bash\n",
    "docker run web_app --port=3000\n",
    "```"
   ]
  },
  {
   "cell_type": "markdown",
   "id": "f2bbf68f-d609-41c0-ac6c-81b9c5dc7d69",
   "metadata": {},
   "source": [
    "We are effectively running:"
   ]
  },
  {
   "cell_type": "markdown",
   "id": "b0a1b386-fe5b-46e5-8f15-541dd13f955b",
   "metadata": {},
   "source": [
    "`flask run --port=3000`"
   ]
  },
  {
   "cell_type": "markdown",
   "id": "f3d71066-9709-42ab-8121-205dad06e7c2",
   "metadata": {},
   "source": [
    "### Summary"
   ]
  },
  {
   "cell_type": "markdown",
   "id": "960521ff-93e9-4a76-a9ce-d1608385b8c9",
   "metadata": {},
   "source": [
    "In this lesson, we reviewed the `CMD` function in a Dockerfile.  And saw that our CMD function is not packaged up in our Docker image, but instead is only run when calling `Docker run image_name`.  We also saw that what's specified in `CMD` is *default* behavior, and can be overridden by passing additional arguments to `Docker run image_name`.\n",
    "\n",
    "For example, if we have a CMD of `CMD [\"flask\", \"run\", \"--port=80\"]`, we can override it with a flask commmand to run on port 3000 with:"
   ]
  },
  {
   "cell_type": "markdown",
   "id": "aa75ba10-828b-47d8-8cb1-0605dcce9ffa",
   "metadata": {},
   "source": [
    "`docker run web_app flask run --port=3000`"
   ]
  },
  {
   "cell_type": "markdown",
   "id": "d643e3c0-eea7-4104-bcd6-6b7a886b1c4b",
   "metadata": {},
   "source": [
    "Entrypoint is similar in that it is also only run when container is being run, however we cannot override the Entrypoint command.  We can only pass additional arguments to it.  For example, if we have the following in our Dockerfile:\n",
    "\n",
    "```\n",
    "Entrypoint [\"flask\", \"run\"]\n",
    "```\n",
    "\n",
    "Then `flask run` must be run everytime we run our container, but we can pass additional arguments to it with `docker run web_app --port=80`.  \n",
    "\n",
    "> Notice that when we have a CMD function, here we are only passing through the additional arguments (`--port=80`), and we are not re-specifying the `flask run` part like we did with command.  With entrypoint that command of `flask run` stays in tact."
   ]
  },
  {
   "cell_type": "markdown",
   "id": "d3099ba5-9715-47e5-8cc0-103c0ea6d157",
   "metadata": {},
   "source": [
    "Finally, if we have both `entrypoint` and `CMD` specified in our Dockerfile, then what's passed into CMD is a passed into our entrypoint command as a default argument.\n",
    "\n",
    "```dockerfile\n",
    "ENTRYPOINT [\"flask\", \"run\"]\n",
    "\n",
    "CMD [\"--port=80\"]\n",
    "```\n",
    "\n",
    "But this default argument can be overridden when booting up the container."
   ]
  },
  {
   "cell_type": "markdown",
   "id": "55193026-1023-44ef-8c00-c8a4ffa6a765",
   "metadata": {},
   "source": [
    "```bash\n",
    "docker run web_app --port=3000\n",
    "```"
   ]
  },
  {
   "cell_type": "markdown",
   "id": "9eb0dea9-8ab4-46bd-b796-9273356ccf22",
   "metadata": {},
   "source": [
    "<img src=\"./port-more.png\" width=\"60%\">"
   ]
  }
 ],
 "metadata": {
  "kernelspec": {
   "display_name": "Python 3 (ipykernel)",
   "language": "python",
   "name": "python3"
  },
  "language_info": {
   "codemirror_mode": {
    "name": "ipython",
    "version": 3
   },
   "file_extension": ".py",
   "mimetype": "text/x-python",
   "name": "python",
   "nbconvert_exporter": "python",
   "pygments_lexer": "ipython3",
   "version": "3.10.13"
  }
 },
 "nbformat": 4,
 "nbformat_minor": 5
}

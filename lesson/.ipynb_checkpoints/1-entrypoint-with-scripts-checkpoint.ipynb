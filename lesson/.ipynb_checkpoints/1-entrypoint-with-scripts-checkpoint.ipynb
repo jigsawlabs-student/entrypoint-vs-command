{
 "cells": [
  {
   "cell_type": "markdown",
   "id": "876da35c-9842-4bd0-b474-d6189590813d",
   "metadata": {},
   "source": [
    "# Docker Entrypoint with Scripts"
   ]
  },
  {
   "cell_type": "markdown",
   "id": "6dade9f7-dffc-4716-9b89-e43f4f05f8d2",
   "metadata": {},
   "source": [
    "### Introduction"
   ]
  },
  {
   "cell_type": "markdown",
   "id": "c16ecd89-cce5-4e87-b992-2fc814dbe455",
   "metadata": {},
   "source": [
    "So in the last lesson, we saw how Entrypoint is a Docker command that is run at runtime, and that we can pass additional arguments to at runtime.  In this lesson, we'll see how we can use Entrypoint to set up our web applications."
   ]
  },
  {
   "cell_type": "markdown",
   "id": "6858e73f-2030-4208-95c7-3b115e9e5410",
   "metadata": {},
   "source": [
    "### An Entrypoint Usecase"
   ]
  },
  {
   "cell_type": "markdown",
   "id": "f24848c0-970a-48d7-939f-10d17a6a15de",
   "metadata": {},
   "source": [
    "### Setting up docker"
   ]
  },
  {
   "cell_type": "markdown",
   "id": "049fc9de-a4ed-45bb-a625-5dbc5661fbcb",
   "metadata": {},
   "source": [
    "Ok, so now let's build the docker image.  The Dockerfile is a little tricky, so we have done this for you.  The key issue is that we want multiple things to occur when we boot up our docker container (aka \"at runtime\").  When we create a docker container we want to:\n",
    "\n",
    "* Create our database tables (if they do not already exist), like the `positions` and `scrapings` tables\n",
    "* Seed our `positions` and `scrapings` tables if they do not already have data in them.\n",
    "* Run our flask application by default.  "
   ]
  },
  {
   "cell_type": "markdown",
   "id": "cb7f8fdd-2df0-4d9a-adee-86b519ad01f1",
   "metadata": {},
   "source": [
    "Ok, so to achieve this we do a couple of things:"
   ]
  },
  {
   "cell_type": "markdown",
   "id": "957824f0-9be5-4fa4-8774-484deccbc867",
   "metadata": {},
   "source": [
    "1. Using entrypoint and command in our Dockerfile\n",
    "\n",
    "If you look at the Dockerfile, you'll see this at the bottom."
   ]
  },
  {
   "cell_type": "markdown",
   "id": "6909fd14-e8fc-447b-ae8a-b051252788b1",
   "metadata": {},
   "source": [
    "```Dockerfile\n",
    "ENTRYPOINT [\"sh\", \"./setup.sh\"]\n",
    "\n",
    "CMD [\"flask\", \"run\", \"--host=0.0.0.0\"]\n",
    "```"
   ]
  },
  {
   "cell_type": "markdown",
   "id": "4bd5d25f-bd2c-4163-ac71-100d5c18b5d1",
   "metadata": {},
   "source": [
    "Here's how it works.  \n",
    "\n",
    "The `Entrypoint` is always run at run time (when you boot up the container), and CMD contains the default arguments passed to what's specified in entrypoint.  So in this case, it's as if we are doing:\n",
    "\n",
    "`sh ./setup.sh flask run --host=0.0.0.0`\n",
    "\n",
    "This will run the `./setup.sh` and then pass `flask run --host=0.0.0.0` to that file.\n",
    "\n",
    "What's accomplished by running `sh ./setup.sh flask run --host=0.0.0.0`?  Let's talk about this next."
   ]
  },
  {
   "cell_type": "markdown",
   "id": "5308aaf1-71dd-4ccf-b7da-8951e8c92d7f",
   "metadata": {},
   "source": [
    "2. `setup.sh` file\n",
    "\n",
    "To understand the above command, you'll need to look at the `setup.sh` file.  If you look at the `setup.sh` file you'll see the following:\n",
    "\n",
    "```bash\n",
    "flask init-db\n",
    "flask seed-db\n",
    "\n",
    "exec \"$@\"\n",
    "```"
   ]
  },
  {
   "cell_type": "markdown",
   "id": "60e4db4d-ca2d-4a30-91aa-234fb13bc7f9",
   "metadata": {},
   "source": [
    "So this will call our `init-db` and `seed-db` functions to create and seed our tables.  The `exec \"$@\"` allows us to pass optional bash commands to the script.  So when we setup our Dockerfile to run the script with:\n",
    "\n",
    "`sh ./setup.sh flask run --host=0.0.0.0`\n",
    "\n",
    "The arguments of `flask run --host=0.0.0.0` will be passed into that `exec` line, and thus be called.\n",
    "\n",
    "We can play around with this.  For example, if we run `sh setup.sh echo hello world`, then we will have created and seeded our tables and run displayed hello world at the end.\n",
    "\n",
    "> Do this now.\n",
    "\n",
    "But in the scenario we encoded, the `CMD [\"flask\", \"run\", \"--host=0.0.0.0\"]` says to pass `flask run --host=0.0.0.0` to our entrypoint `sh setup.sh`, so then the `setup.sh` file executes the `flask run --host=0.0.0.0` command after first creating the tables and seeding the database."
   ]
  },
  {
   "cell_type": "markdown",
   "id": "b3611694-5a83-41f8-bedb-c082ceb1ee95",
   "metadata": {},
   "source": [
    "And remember we can override that default command at run time with something like:\n",
    "\n",
    "`docker run image_name flask run --debug=True`\n",
    "\n",
    "And that means that the setup.sh script will catch those arguments and run that instead of the original command."
   ]
  },
  {
   "cell_type": "markdown",
   "id": "2b1e47b5-c664-44de-a511-6e11984cb8c9",
   "metadata": {},
   "source": [
    "* Building our image"
   ]
  },
  {
   "cell_type": "markdown",
   "id": "da226523-5bb2-4650-9d2d-3e9b285ab515",
   "metadata": {},
   "source": [
    "Ok, so back to the show.  Now build the image, but do so with tagging the image with your dockerhub username first.  Here's an example, so swap our `jek2141` with your username.\n",
    "\n",
    "```bash\n",
    "docker build -t jek2141/scraper_backend .\n",
    "```"
   ]
  },
  {
   "cell_type": "markdown",
   "id": "9d31efc8-b67f-44d8-a0a6-9c78c25ca6c1",
   "metadata": {},
   "source": [
    "So now we'll want to bootup our image locally before trying it on our ec2 instance, but doing so will be a fairly long line.  So you may want to write it out in the `ec2-setup.sh` file, and the copy and paste it into your terminal.  \n",
    "\n",
    "Ok, so boot up your container, but make sure you pass through environmental variables `docker build -e` for all of the database environmental variables. "
   ]
  },
  {
   "cell_type": "markdown",
   "id": "6bf440dd-65fd-4d9a-ab69-613b85c8940b",
   "metadata": {},
   "source": [
    "If it works, you should be able to go to `localhost:5000/positions` and see the positions in the flask application.  \n",
    "\n",
    "* Make sure that your environmental variables are properly getting passed through by passing through some incorrect information (like a wrong password) that should cause your application to break.  If this doesn't work it means you are likely reading from the .env file but not from your `docker build -e` arguments.\n"
   ]
  },
  {
   "cell_type": "markdown",
   "id": "7c9312d6-515b-4d40-a416-f7b973f82002",
   "metadata": {},
   "source": [
    "* One more thing"
   ]
  },
  {
   "cell_type": "markdown",
   "id": "c3108439-71b7-4773-a558-b9d284606015",
   "metadata": {},
   "source": [
    "Now we're about to move onto terraform, but there is one issue with our docker image that we'll likely run into.  It's that there may be a mismatch between our laptop where we built our image on and the ec2 machine we ultimately use.  So before moving on, let's rebuild the image and tag it.  \n",
    "\n",
    "> Just replace `jek2141` with your username.\n",
    "\n",
    "`docker build -t jek2141/scraper_backend:amd_v2 --platform=linux/amd64/v2 .`"
   ]
  },
  {
   "cell_type": "markdown",
   "id": "0acde977-20cd-4a6c-b75d-cc47cfd42bec",
   "metadata": {},
   "source": [
    "And now this is the image we'll ultimate want to use on our ec2 machine, so let's push it up to dockerhub."
   ]
  },
  {
   "cell_type": "markdown",
   "id": "204f2aac-5e1a-4e24-b4a5-e4329d0ff0f1",
   "metadata": {},
   "source": [
    "`docker push jek2141/scraper_backend:amd_v2`"
   ]
  },
  {
   "cell_type": "markdown",
   "id": "f3d71066-9709-42ab-8121-205dad06e7c2",
   "metadata": {},
   "source": [
    "### Summary"
   ]
  },
  {
   "cell_type": "markdown",
   "id": "7a20fe57-0977-4170-b38b-22ea74a4f2e5",
   "metadata": {},
   "source": [
    "In this lesson, we first organized our codebase so that files like `.env` and `.flaskenv` are under the correct folders.  And we then added some functions to more easily set up our database.  We confirmed these commands worked before then encapsulating this in a docker image.\n",
    "\n",
    "\n",
    "We then used our Dockerfile and a `setup.sh` file to call these functions.  And we did so by running the `setup.sh` file from our dockerfile with the entrypoint command."
   ]
  },
  {
   "cell_type": "markdown",
   "id": "00003d81-2362-4793-b511-5bd697f7790f",
   "metadata": {},
   "source": [
    "```dockerfile\n",
    "ENTRYPOINT [\"sh\", \"./setup.sh\"]\n",
    "```"
   ]
  },
  {
   "cell_type": "markdown",
   "id": "ca56d7bf-d12e-4d98-b78c-0897732304a6",
   "metadata": {},
   "source": [
    "And then the command function sets default arguments that will be passed to the entrypoint command when we run `docker run`."
   ]
  },
  {
   "cell_type": "markdown",
   "id": "a8dc13f1-4071-4366-b45b-a981fbd12a7e",
   "metadata": {},
   "source": [
    "```dockerfile\n",
    "CMD [\"flask\", \"run\", \"--host=0.0.0.0\"]\n",
    "```"
   ]
  },
  {
   "cell_type": "markdown",
   "id": "ed56e1a0-01fe-4191-9714-e3093149e167",
   "metadata": {},
   "source": [
    "When this was complete, we built our image.  We properly tagged it so that we could push it to dockerhub.  We also specified the platform to ensure it would run on our ec2 machine."
   ]
  },
  {
   "cell_type": "markdown",
   "id": "d1f795aa-34cd-4a6a-91c0-c2c5c8b300d7",
   "metadata": {},
   "source": [
    "### Resources\n",
    "\n",
    "[Terraform working with Following](https://discuss.hashicorp.com/t/template-v2-2-0-does-not-have-a-package-available-mac-m1/35099/3)"
   ]
  }
 ],
 "metadata": {
  "kernelspec": {
   "display_name": "Python 3 (ipykernel)",
   "language": "python",
   "name": "python3"
  },
  "language_info": {
   "codemirror_mode": {
    "name": "ipython",
    "version": 3
   },
   "file_extension": ".py",
   "mimetype": "text/x-python",
   "name": "python",
   "nbconvert_exporter": "python",
   "pygments_lexer": "ipython3",
   "version": "3.10.13"
  }
 },
 "nbformat": 4,
 "nbformat_minor": 5
}
